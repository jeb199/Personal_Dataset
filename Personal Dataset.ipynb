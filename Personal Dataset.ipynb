{
 "cells": [
  {
   "cell_type": "code",
   "execution_count": 2,
   "metadata": {},
   "outputs": [],
   "source": [
    "import pandas as pd\n",
    "import numpy as np\n",
    "import matplotlib.pyplot as plt\n",
    "from sklearn.linear_model import LinearRegression\n",
    "from scipy.stats import probplot"
   ]
  },
  {
   "cell_type": "code",
   "execution_count": 3,
   "metadata": {},
   "outputs": [],
   "source": [
    "df = pd.read_csv(\"Personal_DataProject.csv\")"
   ]
  },
  {
   "cell_type": "code",
   "execution_count": 4,
   "metadata": {
    "scrolled": true
   },
   "outputs": [
    {
     "data": {
      "text/html": [
       "<div>\n",
       "<style scoped>\n",
       "    .dataframe tbody tr th:only-of-type {\n",
       "        vertical-align: middle;\n",
       "    }\n",
       "\n",
       "    .dataframe tbody tr th {\n",
       "        vertical-align: top;\n",
       "    }\n",
       "\n",
       "    .dataframe thead th {\n",
       "        text-align: right;\n",
       "    }\n",
       "</style>\n",
       "<table border=\"1\" class=\"dataframe\">\n",
       "  <thead>\n",
       "    <tr style=\"text-align: right;\">\n",
       "      <th></th>\n",
       "      <th>Song Title</th>\n",
       "      <th>Band</th>\n",
       "      <th>Time</th>\n",
       "      <th>Gender of Lead Singer</th>\n",
       "      <th>Genre</th>\n",
       "      <th>Monthly Listeners</th>\n",
       "      <th>Ranking of Song</th>\n",
       "      <th>Country of Origin</th>\n",
       "      <th>Year Released</th>\n",
       "    </tr>\n",
       "  </thead>\n",
       "  <tbody>\n",
       "    <tr>\n",
       "      <th>0</th>\n",
       "      <td>Thank You</td>\n",
       "      <td>Chris Cornell</td>\n",
       "      <td>4:48</td>\n",
       "      <td>Male</td>\n",
       "      <td>Rock</td>\n",
       "      <td>2298503.0</td>\n",
       "      <td>5.0</td>\n",
       "      <td>USA</td>\n",
       "      <td>2011.0</td>\n",
       "    </tr>\n",
       "    <tr>\n",
       "      <th>1</th>\n",
       "      <td>Hey Now</td>\n",
       "      <td>The Regrettes</td>\n",
       "      <td>3:29</td>\n",
       "      <td>Female</td>\n",
       "      <td>Punk</td>\n",
       "      <td>567057.0</td>\n",
       "      <td>2.0</td>\n",
       "      <td>USA</td>\n",
       "      <td>2017.0</td>\n",
       "    </tr>\n",
       "    <tr>\n",
       "      <th>2</th>\n",
       "      <td>Sara</td>\n",
       "      <td>Fleetwood Mac</td>\n",
       "      <td>4:37</td>\n",
       "      <td>Female</td>\n",
       "      <td>Rock</td>\n",
       "      <td>26614004.0</td>\n",
       "      <td>10.0</td>\n",
       "      <td>UK</td>\n",
       "      <td>1978.0</td>\n",
       "    </tr>\n",
       "    <tr>\n",
       "      <th>3</th>\n",
       "      <td>Us and Them</td>\n",
       "      <td>Pink Floyd</td>\n",
       "      <td>7:49</td>\n",
       "      <td>Male</td>\n",
       "      <td>Rock</td>\n",
       "      <td>13478194.0</td>\n",
       "      <td>10.0</td>\n",
       "      <td>UK</td>\n",
       "      <td>1973.0</td>\n",
       "    </tr>\n",
       "    <tr>\n",
       "      <th>4</th>\n",
       "      <td>Whisper To A Scream</td>\n",
       "      <td>The Icicle Works</td>\n",
       "      <td>3:48</td>\n",
       "      <td>Male</td>\n",
       "      <td>Rock</td>\n",
       "      <td>118567.0</td>\n",
       "      <td>1.0</td>\n",
       "      <td>UK</td>\n",
       "      <td>1984.0</td>\n",
       "    </tr>\n",
       "  </tbody>\n",
       "</table>\n",
       "</div>"
      ],
      "text/plain": [
       "            Song Title              Band  Time Gender of Lead Singer Genre  \\\n",
       "0            Thank You     Chris Cornell  4:48                  Male  Rock   \n",
       "1              Hey Now     The Regrettes  3:29                Female  Punk   \n",
       "2                 Sara     Fleetwood Mac  4:37                Female  Rock   \n",
       "3          Us and Them        Pink Floyd  7:49                  Male  Rock   \n",
       "4  Whisper To A Scream  The Icicle Works  3:48                  Male  Rock   \n",
       "\n",
       "   Monthly Listeners  Ranking of Song Country of Origin  Year Released  \n",
       "0          2298503.0              5.0               USA         2011.0  \n",
       "1           567057.0              2.0               USA         2017.0  \n",
       "2         26614004.0             10.0                UK         1978.0  \n",
       "3         13478194.0             10.0                UK         1973.0  \n",
       "4           118567.0              1.0                UK         1984.0  "
      ]
     },
     "execution_count": 4,
     "metadata": {},
     "output_type": "execute_result"
    }
   ],
   "source": [
    "df.head()"
   ]
  },
  {
   "cell_type": "code",
   "execution_count": 5,
   "metadata": {},
   "outputs": [],
   "source": [
    "df['Time (in minutes)'] =  pd.to_datetime(df['Time'], format='%M:%S').dt.minute + pd.to_datetime(df['Time'], format='%M:%S').dt.second/60"
   ]
  },
  {
   "cell_type": "code",
   "execution_count": 6,
   "metadata": {
    "scrolled": true
   },
   "outputs": [
    {
     "data": {
      "text/plain": [
       "Text(0.5, 1.0, 'Time Lengths of Songs')"
      ]
     },
     "execution_count": 6,
     "metadata": {},
     "output_type": "execute_result"
    },
    {
     "data": {
      "image/png": "[encoded data removed]",
      "text/plain": [
       "<Figure size 432x288 with 1 Axes>"
      ]
     },
     "metadata": {
      "needs_background": "light"
     },
     "output_type": "display_data"
    }
   ],
   "source": [
    "plt.figure()\n",
    "plt.plot(df['Time (in minutes)'], 'o', color='dodgerblue')\n",
    "plt.ylim(1.5, 8.5)\n",
    "plt.xlabel('Songs')\n",
    "plt.ylabel('Duration')\n",
    "plt.title('Time Lengths of Songs')"
   ]
  },
  {
   "cell_type": "code",
   "execution_count": 7,
   "metadata": {},
   "outputs": [
    {
     "name": "stderr",
     "output_type": "stream",
     "text": [
      "C:\\Users\\jeb19\\anaconda3\\lib\\site-packages\\numpy\\lib\\histograms.py:839: RuntimeWarning: invalid value encountered in greater_equal\n",
      "  keep = (tmp_a >= first_edge)\n",
      "C:\\Users\\jeb19\\anaconda3\\lib\\site-packages\\numpy\\lib\\histograms.py:840: RuntimeWarning: invalid value encountered in less_equal\n",
      "  keep &= (tmp_a <= last_edge)\n"
     ]
    },
    {
     "data": {
      "text/plain": [
       "Text(0.5, 1.0, 'Song Ranking')"
      ]
     },
     "execution_count": 7,
     "metadata": {},
     "output_type": "execute_result"
    },
    {
     "data": {
      "image/png": "[encoded data removed]",
      "text/plain": [
       "<Figure size 432x288 with 1 Axes>"
      ]
     },
     "metadata": {
      "needs_background": "light"
     },
     "output_type": "display_data"
    }
   ],
   "source": [
    "plt.figure()\n",
    "plt.hist(df['Ranking of Song'], color='violet')\n",
    "plt.xlabel('Songs')\n",
    "plt.ylabel('Ranking of Song')\n",
    "plt.title('Song Ranking')"
   ]
  },
  {
   "cell_type": "code",
   "execution_count": 8,
   "metadata": {},
   "outputs": [
    {
     "data": {
      "text/plain": [
       "[<matplotlib.lines.Line2D at 0x1a99a7610a0>]"
      ]
     },
     "execution_count": 8,
     "metadata": {},
     "output_type": "execute_result"
    },
    {
     "data": {
      "image/png": "[encoded data removed]",
      "text/plain": [
       "<Figure size 432x288 with 1 Axes>"
      ]
     },
     "metadata": {
      "needs_background": "light"
     },
     "output_type": "display_data"
    }
   ],
   "source": [
    "plt.figure()\n",
    "plt.plot(df['Monthly Listeners'], 'o', color='mediumseagreen')"
   ]
  },
  {
   "cell_type": "code",
   "execution_count": 11,
   "metadata": {},
   "outputs": [
    {
     "data": {
      "text/plain": [
       "array([[<matplotlib.axes._subplots.AxesSubplot object at 0x000001A99AA5B5B0>,\n",
       "        <matplotlib.axes._subplots.AxesSubplot object at 0x000001A99AABB730>,\n",
       "        <matplotlib.axes._subplots.AxesSubplot object at 0x000001A99AAEAB80>],\n",
       "       [<matplotlib.axes._subplots.AxesSubplot object at 0x000001A99AB17FD0>,\n",
       "        <matplotlib.axes._subplots.AxesSubplot object at 0x000001A99AB51460>,\n",
       "        <matplotlib.axes._subplots.AxesSubplot object at 0x000001A99AB7C7F0>],\n",
       "       [<matplotlib.axes._subplots.AxesSubplot object at 0x000001A99AB7C8E0>,\n",
       "        <matplotlib.axes._subplots.AxesSubplot object at 0x000001A99ABA9D90>,\n",
       "        <matplotlib.axes._subplots.AxesSubplot object at 0x000001A99AC0F640>]],\n",
       "      dtype=object)"
      ]
     },
     "execution_count": 11,
     "metadata": {},
     "output_type": "execute_result"
    },
    {
     "data": {
      "image/png": "[encoded data removed]",
      "text/plain": [
       "<Figure size 432x288 with 9 Axes>"
      ]
     },
     "metadata": {
      "needs_background": "light"
     },
     "output_type": "display_data"
    }
   ],
   "source": [
    "pd.plotting.scatter_matrix(df[[\"Monthly Listeners\",\"Ranking of Song\",\"Year Released\"]])"
   ]
  },
  {
   "cell_type": "code",
   "execution_count": null,
   "metadata": {},
   "outputs": [],
   "source": []
  }
 ],
 "metadata": {
  "kernelspec": {
   "display_name": "Python 3",
   "language": "python",
   "name": "python3"
  },
  "language_info": {
   "codemirror_mode": {
    "name": "ipython",
    "version": 3
   },
   "file_extension": ".py",
   "mimetype": "text/x-python",
   "name": "python",
   "nbconvert_exporter": "python",
   "pygments_lexer": "ipython3",
   "version": "3.8.3"
  }
 },
 "nbformat": 4,
 "nbformat_minor": 4
}
